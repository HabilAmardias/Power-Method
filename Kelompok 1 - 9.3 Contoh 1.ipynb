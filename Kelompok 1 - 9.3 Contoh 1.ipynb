{
 "cells": [
  {
   "cell_type": "code",
   "execution_count": 1,
   "id": "5adc991a",
   "metadata": {},
   "outputs": [],
   "source": [
    "import numpy as np"
   ]
  },
  {
   "cell_type": "code",
   "execution_count": 2,
   "id": "cffbad9c",
   "metadata": {},
   "outputs": [],
   "source": [
    "def power_method_aitken(A, tol=1e-8, max_iter=100):\n",
    "    x=np.ones(A.shape[0])\n",
    "    lam_0=0\n",
    "    lam_1=0\n",
    "    x=x/np.amax(np.abs(x))\n",
    "    for i in range(max_iter):\n",
    "        y=A@x\n",
    "        yp=np.amax(np.abs(y))\n",
    "        lam=yp\n",
    "        lam_aitken=lam_0-((lam_1-lam_0)**2/(lam-2*lam_1+lam_0))\n",
    "        if yp==0:\n",
    "            break\n",
    "        err=np.amax(np.abs(x-(y/yp)))\n",
    "        x=y/yp\n",
    "        if err<tol and i>=4:\n",
    "            break\n",
    "        lam_0=lam_1\n",
    "        lam_1=lam\n",
    "    return float(lam_aitken),x"
   ]
  },
  {
   "cell_type": "code",
   "execution_count": 3,
   "id": "f60c7781",
   "metadata": {},
   "outputs": [
    {
     "name": "stdout",
     "output_type": "stream",
     "text": [
      "Approx Dominant Eigenvalue:  5.999999999999993\n",
      "Approx Dominant Eigenvector:  [ 1.          0.71428572 -0.24999999]\n"
     ]
    }
   ],
   "source": [
    "A=np.array([[-4,14,0],[-5,13,0],[-1,0,2]])\n",
    "eigenval, eigenvec=power_method_aitken(A)\n",
    "real_val, real_vec=np.linalg.eig(A)\n",
    "print('Approx Dominant Eigenvalue: ',eigenval)\n",
    "print('Approx Dominant Eigenvector: ',eigenvec)"
   ]
  },
  {
   "cell_type": "code",
   "execution_count": null,
   "id": "10e6b1a2",
   "metadata": {},
   "outputs": [],
   "source": []
  }
 ],
 "metadata": {
  "kernelspec": {
   "display_name": "Python 3 (ipykernel)",
   "language": "python",
   "name": "python3"
  },
  "language_info": {
   "codemirror_mode": {
    "name": "ipython",
    "version": 3
   },
   "file_extension": ".py",
   "mimetype": "text/x-python",
   "name": "python",
   "nbconvert_exporter": "python",
   "pygments_lexer": "ipython3",
   "version": "3.9.13"
  }
 },
 "nbformat": 4,
 "nbformat_minor": 5
}
