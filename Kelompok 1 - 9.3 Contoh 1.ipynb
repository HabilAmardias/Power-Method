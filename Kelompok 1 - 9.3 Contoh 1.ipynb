{
 "cells": [
  {
   "cell_type": "code",
   "execution_count": 1,
   "id": "5adc991a",
   "metadata": {},
   "outputs": [],
   "source": [
    "import numpy as np"
   ]
  },
  {
   "cell_type": "code",
   "execution_count": 2,
   "id": "cffbad9c",
   "metadata": {},
   "outputs": [
    {
     "name": "stdout",
     "output_type": "stream",
     "text": [
      "Step:  0\n",
      "Approx Dominant Eigenvalue:  0.0\n",
      "Approx Dominant Eigenvector:  [1.  0.8 0.1]\n",
      "Error yang dihasilkan:  0.9\n",
      "Step:  1\n",
      "Approx Dominant Eigenvalue:  7.812500000000001\n",
      "Approx Dominant Eigenvector:  [ 1.          0.75       -0.11111111]\n",
      "Error yang dihasilkan:  0.2111111111111111\n",
      "Step:  2\n",
      "Approx Dominant Eigenvalue:  6.266666666666662\n",
      "Approx Dominant Eigenvector:  [ 1.          0.73076923 -0.18803419]\n",
      "Error yang dihasilkan:  0.07692307692307698\n",
      "Step:  3\n",
      "Approx Dominant Eigenvalue:  6.062500000000002\n",
      "Approx Dominant Eigenvector:  [ 1.          0.72222222 -0.22085048]\n",
      "Error yang dihasilkan:  0.03281629207555131\n",
      "Step:  4\n",
      "Approx Dominant Eigenvalue:  6.015384615384621\n",
      "Approx Dominant Eigenvector:  [ 1.          0.71818182 -0.2359147 ]\n",
      "Error yang dihasilkan:  0.015064222471629807\n",
      "Step:  5\n",
      "Approx Dominant Eigenvalue:  6.00383141762451\n",
      "Approx Dominant Eigenvector:  [ 1.          0.71621622 -0.24309495]\n",
      "Error yang dihasilkan:  0.007180244217281362\n",
      "Step:  6\n",
      "Approx Dominant Eigenvalue:  6.000956937799041\n",
      "Approx Dominant Eigenvector:  [ 1.          0.71524664 -0.24658756]\n",
      "Error yang dihasilkan:  0.003492614022426399\n",
      "Step:  7\n",
      "Approx Dominant Eigenvalue:  6.000239177230335\n",
      "Approx Dominant Eigenvector:  [ 1.          0.7147651  -0.24830578]\n",
      "Error yang dihasilkan:  0.0017182200336585685\n",
      "Step:  8\n",
      "Approx Dominant Eigenvalue:  6.000059790732432\n",
      "Approx Dominant Eigenvector:  [ 1.          0.71452514 -0.24915656]\n",
      "Error yang dihasilkan:  0.0008507808153328522\n",
      "Step:  9\n",
      "Approx Dominant Eigenvalue:  6.000014947459683\n",
      "Approx Dominant Eigenvector:  [ 1.          0.71440536 -0.24957942]\n",
      "Error yang dihasilkan:  0.000422862374119648\n",
      "Step:  10\n",
      "Approx Dominant Eigenvalue:  6.000003736850951\n",
      "Approx Dominant Eigenvector:  [ 1.          0.71434552 -0.24979007]\n",
      "Error yang dihasilkan:  0.00021064916506693954\n",
      "Step:  11\n",
      "Approx Dominant Eigenvalue:  6.000000934211886\n",
      "Approx Dominant Eigenvector:  [ 1.          0.71431561 -0.24989515]\n",
      "Error yang dihasilkan:  0.00010507885890545521\n",
      "Step:  12\n",
      "Approx Dominant Eigenvalue:  6.0000002335528855\n",
      "Approx Dominant Eigenvector:  [ 1.          0.71430066 -0.24994761]\n",
      "Error yang dihasilkan:  5.2461226689393126e-05\n",
      "Step:  13\n",
      "Approx Dominant Eigenvalue:  6.000000058388246\n",
      "Approx Dominant Eigenvector:  [ 1.          0.71429319 -0.24997382]\n",
      "Error yang dihasilkan:  2.620546700404791e-05\n",
      "Step:  14\n",
      "Approx Dominant Eigenvalue:  6.000000014597049\n",
      "Approx Dominant Eigenvector:  [ 1.          0.71428945 -0.24998691]\n",
      "Error yang dihasilkan:  1.3094580909367437e-05\n",
      "Step:  15\n",
      "Approx Dominant Eigenvalue:  6.000000003649251\n",
      "Approx Dominant Eigenvector:  [ 1.          0.71428758 -0.24999346]\n",
      "Error yang dihasilkan:  6.544630178156874e-06\n",
      "Step:  16\n",
      "Approx Dominant Eigenvalue:  6.000000000912322\n",
      "Approx Dominant Eigenvector:  [ 1.          0.71428665 -0.24999673]\n",
      "Error yang dihasilkan:  3.2714426233537708e-06\n",
      "Step:  17\n",
      "Approx Dominant Eigenvalue:  6.0000000002280665\n",
      "Approx Dominant Eigenvector:  [ 1.          0.71428618 -0.24999836]\n",
      "Error yang dihasilkan:  1.635434059954477e-06\n",
      "Step:  18\n",
      "Approx Dominant Eigenvalue:  6.0000000000570255\n",
      "Approx Dominant Eigenvector:  [ 1.          0.71428595 -0.24999918]\n",
      "Error yang dihasilkan:  8.17622171245258e-07\n"
     ]
    }
   ],
   "source": [
    "A=np.array([[-4,14,0],[-5,13,0],[-1,0,2]])\n",
    "x=np.ones(A.shape[0])\n",
    "max_iter=100\n",
    "tol=1e-6\n",
    "lam_0=0\n",
    "lam_1=0\n",
    "x=x/np.amax(np.abs(x))\n",
    "for i in range(max_iter):\n",
    "    print('Step: ',i)\n",
    "    y=A@x\n",
    "    yp=np.amax(np.abs(y))\n",
    "    lam=yp\n",
    "    lam_aitken=lam_0-((lam_1-lam_0)**2/(lam-2*lam_1+lam_0))\n",
    "    print('Approx Dominant Eigenvalue: ',lam_aitken)\n",
    "    if yp==0:\n",
    "        break\n",
    "    err=np.amax(np.abs(x-(y/yp)))\n",
    "    x=y/yp\n",
    "    print('Approx Dominant Eigenvector: ',x)\n",
    "    print('Error yang dihasilkan: ', err)\n",
    "    if err<tol and i>=4:\n",
    "        break\n",
    "    lam_0=lam_1\n",
    "    lam_1=lam"
   ]
  },
  {
   "cell_type": "code",
   "execution_count": 3,
   "id": "9dca2c87",
   "metadata": {},
   "outputs": [
    {
     "name": "stdout",
     "output_type": "stream",
     "text": [
      "[10.  8.  1.]\n"
     ]
    }
   ],
   "source": [
    "y=np.ones(A.shape[0])\n",
    "matmul=A@y\n",
    "print(matmul)"
   ]
  },
  {
   "cell_type": "code",
   "execution_count": null,
   "id": "13ba6306",
   "metadata": {},
   "outputs": [],
   "source": []
  }
 ],
 "metadata": {
  "kernelspec": {
   "display_name": "Python 3 (ipykernel)",
   "language": "python",
   "name": "python3"
  },
  "language_info": {
   "codemirror_mode": {
    "name": "ipython",
    "version": 3
   },
   "file_extension": ".py",
   "mimetype": "text/x-python",
   "name": "python",
   "nbconvert_exporter": "python",
   "pygments_lexer": "ipython3",
   "version": "3.9.13"
  }
 },
 "nbformat": 4,
 "nbformat_minor": 5
}
