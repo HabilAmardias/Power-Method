{
 "cells": [
  {
   "cell_type": "code",
   "execution_count": 1,
   "id": "6b4b8f5b",
   "metadata": {},
   "outputs": [],
   "source": [
    "import numpy as np\n",
    "from scipy.linalg import eigvals"
   ]
  },
  {
   "cell_type": "code",
   "execution_count": 2,
   "id": "4e7c7dbf",
   "metadata": {},
   "outputs": [],
   "source": [
    "def sym_power_method(A, max_iter=1000, tol=1e-8):\n",
    "        \n",
    "    # Initialisasi vektor 1\n",
    "    x = np.ones(A.shape[0])\n",
    "    \n",
    "    # Perform power iterations\n",
    "    for i in range(max_iter):\n",
    "        # Compute A times x\n",
    "        y = A @ x\n",
    "        eigval=x.T @ y\n",
    "        if np.linalg.norm(y)==0:\n",
    "            print('Eigenvector',x)\n",
    "            print('A has eigenvalue 0, select new vector x and restart')\n",
    "            break\n",
    "        \n",
    "        \n",
    "        # Compute the norm of Ax\n",
    "        norm_y = np.linalg.norm(y)\n",
    "        \n",
    "        err=np.linalg.norm(x-(y/norm_y))\n",
    "        \n",
    "        x = y/norm_y\n",
    "        # Check for convergence\n",
    "        if err < tol:\n",
    "            break\n",
    "    eigvec = x / np.linalg.norm(x)\n",
    "    \n",
    "    return eigval, eigvec"
   ]
  },
  {
   "cell_type": "code",
   "execution_count": 3,
   "id": "1eab9dd5",
   "metadata": {},
   "outputs": [],
   "source": [
    "def sym_power_method1(A, max_iter=1000, tol=1e-6):\n",
    "    n = A.shape[0]\n",
    "    x = np.ones(n) / np.sqrt(n)  # initial guess for the eigenvector\n",
    "    lambda_prev = 0  # previous estimate of the eigenvalue\n",
    "    for i in range(max_iter):\n",
    "        x = A @ x\n",
    "        x = x / np.linalg.norm(x)\n",
    "        lambda_curr = np.dot(x, A @ x)\n",
    "        if np.abs(lambda_curr - lambda_prev) < tol:\n",
    "            break\n",
    "        lambda_prev = lambda_curr\n",
    "    return lambda_curr, x\n"
   ]
  },
  {
   "cell_type": "code",
   "execution_count": 4,
   "id": "2c34ebcb",
   "metadata": {},
   "outputs": [
    {
     "name": "stdout",
     "output_type": "stream",
     "text": [
      "Eigenvalues [12.73337546+0.j -4.91916822+0.j -0.81420723+0.j]\n",
      "Dominant eigenvector: [0.62518155 0.43252044 0.64967231]\n",
      "Dominant eigenvalue: 12.73337545818855\n"
     ]
    }
   ],
   "source": [
    "A = np.array([[2, 5, 7], [5, 1, 3], [7, 3, 4]])\n",
    "eigenvalues=eigvals(A)\n",
    "DomEigenvalue,x = sym_power_method1(A)\n",
    "print('Eigenvalues', eigenvalues)\n",
    "print(\"Dominant eigenvector:\", x)\n",
    "print(\"Dominant eigenvalue:\", DomEigenvalue)"
   ]
  }
 ],
 "metadata": {
  "kernelspec": {
   "display_name": "Python 3 (ipykernel)",
   "language": "python",
   "name": "python3"
  },
  "language_info": {
   "codemirror_mode": {
    "name": "ipython",
    "version": 3
   },
   "file_extension": ".py",
   "mimetype": "text/x-python",
   "name": "python",
   "nbconvert_exporter": "python",
   "pygments_lexer": "ipython3",
   "version": "3.9.13"
  }
 },
 "nbformat": 4,
 "nbformat_minor": 5
}
