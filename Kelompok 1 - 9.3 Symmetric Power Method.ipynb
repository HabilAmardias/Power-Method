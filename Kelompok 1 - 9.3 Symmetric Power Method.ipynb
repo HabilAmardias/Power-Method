{
 "cells": [
  {
   "cell_type": "code",
   "execution_count": 1,
   "id": "6b4b8f5b",
   "metadata": {},
   "outputs": [],
   "source": [
    "import numpy as np\n",
    "from scipy.linalg import eigvals"
   ]
  },
  {
   "cell_type": "code",
   "execution_count": 2,
   "id": "4e7c7dbf",
   "metadata": {},
   "outputs": [],
   "source": [
    "def sym_power_method(A, max_iter=1000, tol=1e-8):\n",
    "        \n",
    "    # Initialisasi vektor 1\n",
    "    x = np.ones(A.shape[0])\n",
    "    x=x/np.linalg.norm(x) #normalisasi vektor\n",
    "    \n",
    "    # Perform power iterations\n",
    "    for i in range(max_iter):\n",
    "        # Compute A times x\n",
    "        y = A @ x\n",
    "        eigval=x.T @ y\n",
    "        if np.linalg.norm(y)==0:\n",
    "            break\n",
    "        norm_y = np.linalg.norm(y)\n",
    "        \n",
    "        err=np.linalg.norm(x-(y/norm_y))\n",
    "        \n",
    "        x = y/norm_y\n",
    "        # Check for convergence\n",
    "        if err < tol:\n",
    "            break\n",
    "    \n",
    "    return eigval, x"
   ]
  },
  {
   "cell_type": "code",
   "execution_count": 3,
   "id": "2c34ebcb",
   "metadata": {},
   "outputs": [
    {
     "name": "stdout",
     "output_type": "stream",
     "text": [
      "Dominant eigenvector: [0.62518155 0.43252044 0.64967231]\n",
      "Dominant eigenvalue: 12.73337545818855\n"
     ]
    }
   ],
   "source": [
    "A = np.array([[2, 5, 7], [5, 1, 3], [7, 3, 4]])\n",
    "DomEigenvalue,x = sym_power_method(A)\n",
    "print(\"Dominant eigenvector:\", x)\n",
    "print(\"Dominant eigenvalue:\", DomEigenvalue)"
   ]
  }
 ],
 "metadata": {
  "kernelspec": {
   "display_name": "Python 3 (ipykernel)",
   "language": "python",
   "name": "python3"
  },
  "language_info": {
   "codemirror_mode": {
    "name": "ipython",
    "version": 3
   },
   "file_extension": ".py",
   "mimetype": "text/x-python",
   "name": "python",
   "nbconvert_exporter": "python",
   "pygments_lexer": "ipython3",
   "version": "3.9.13"
  }
 },
 "nbformat": 4,
 "nbformat_minor": 5
}
